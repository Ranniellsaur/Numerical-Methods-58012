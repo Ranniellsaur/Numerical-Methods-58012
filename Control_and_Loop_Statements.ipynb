{
  "nbformat": 4,
  "nbformat_minor": 0,
  "metadata": {
    "colab": {
      "name": "Control and Loop Statements.ipynb",
      "provenance": [],
      "authorship_tag": "ABX9TyOl4hMeZ65o7gn+T5YPJsGG",
      "include_colab_link": true
    },
    "kernelspec": {
      "name": "python3",
      "display_name": "Python 3"
    },
    "language_info": {
      "name": "python"
    }
  },
  "cells": [
    {
      "cell_type": "markdown",
      "metadata": {
        "id": "view-in-github",
        "colab_type": "text"
      },
      "source": [
        "<a href=\"https://colab.research.google.com/github/Ranniellsaur/Numerical-Methods-58012/blob/main/Control_and_Loop_Statements.ipynb\" target=\"_parent\"><img src=\"https://colab.research.google.com/assets/colab-badge.svg\" alt=\"Open In Colab\"/></a>"
      ]
    },
    {
      "cell_type": "markdown",
      "source": [
        "## If Statement"
      ],
      "metadata": {
        "id": "FWfSpPyrqTwj"
      }
    },
    {
      "cell_type": "code",
      "execution_count": null,
      "metadata": {
        "id": "sQaSq1Y6p-xA"
      },
      "outputs": [],
      "source": [
        "a = 12\n",
        "b = 100\n",
        "\n",
        "if b>a:\n",
        "  print(\"b is greater than a\")"
      ]
    },
    {
      "cell_type": "markdown",
      "source": [
        "## If / Elif Statement"
      ],
      "metadata": {
        "id": "D-V44c01qYuN"
      }
    },
    {
      "cell_type": "code",
      "source": [
        "a = 100\n",
        "b = 10\n",
        "\n",
        "if b>a:\n",
        "  print(\"b is greater than a\")\n",
        "elif a==b:\n",
        "  print(\"a and b are equal\")"
      ],
      "metadata": {
        "id": "400x_5Jsqc_d"
      },
      "execution_count": null,
      "outputs": []
    },
    {
      "cell_type": "markdown",
      "source": [
        "## Else Statement"
      ],
      "metadata": {
        "id": "DKTetOLdqfUT"
      }
    },
    {
      "cell_type": "code",
      "source": [
        " if b>a:\n",
        "  print(\"b is greater than a\")\n",
        "elif a==b:\n",
        "  print(\"a and b are equal\")\n",
        "else:\n",
        "  print(\"a is greater than b\")"
      ],
      "metadata": {
        "id": "OmsTyiJfqiQS"
      },
      "execution_count": null,
      "outputs": []
    },
    {
      "cell_type": "markdown",
      "source": [
        "## Short Hand If Statement"
      ],
      "metadata": {
        "id": "m27Sue14qkyY"
      }
    },
    {
      "cell_type": "code",
      "source": [
        "if a>b: print(\"a is greater than b\")"
      ],
      "metadata": {
        "id": "gf6b7iZ1qoG_"
      },
      "execution_count": null,
      "outputs": []
    },
    {
      "cell_type": "markdown",
      "source": [
        "## Short Hand If Else Statement"
      ],
      "metadata": {
        "id": "jl3SFBgLqsV5"
      }
    },
    {
      "cell_type": "code",
      "source": [
        "print(\"b is greater than a\") if b>a else print(\"a is greater than b\")"
      ],
      "metadata": {
        "id": "3ZgxXGroqxwr"
      },
      "execution_count": null,
      "outputs": []
    },
    {
      "cell_type": "markdown",
      "source": [
        "And - if both conditions are true"
      ],
      "metadata": {
        "id": "I638K6xIqxAN"
      }
    },
    {
      "cell_type": "code",
      "source": [
        "a = 100\n",
        "b = 10\n",
        "c = 45\n",
        "\n",
        "if a>b and c>b:\n",
        "  print(\"Both conditions are true\")"
      ],
      "metadata": {
        "id": "VaiA2Fskq7HM"
      },
      "execution_count": null,
      "outputs": []
    },
    {
      "cell_type": "markdown",
      "source": [
        "Or - if one of the conditions is true"
      ],
      "metadata": {
        "id": "xd7RQ9Zlq86o"
      }
    },
    {
      "cell_type": "code",
      "source": [
        "if a>b or b>c:\n",
        "  print(\"One condition is true\")"
      ],
      "metadata": {
        "id": "UN2unkl9rDtG"
      },
      "execution_count": null,
      "outputs": []
    },
    {
      "cell_type": "markdown",
      "source": [
        "## Nested If"
      ],
      "metadata": {
        "id": "c4uSIm-IrFjX"
      }
    },
    {
      "cell_type": "code",
      "source": [
        "x = int(input())\n",
        "\n",
        "if x>10:\n",
        "  print(\"x is above 10\")\n",
        "  if x>20:\n",
        "    print(\"x is above 20\")\n",
        "    if x>30:\n",
        "      print(\"x is above 30\")\n",
        "      if x>40:\n",
        "        print(\"x is above 40\")\n",
        "        if x>50:\n",
        "          print(\"x is above 50\")\n",
        "        else:\n",
        "          print(\"x is below 50\")\n",
        "else:\n",
        "  print(\"x is below 10\")"
      ],
      "metadata": {
        "id": "q1_Mze80rIXB"
      },
      "execution_count": null,
      "outputs": []
    },
    {
      "cell_type": "markdown",
      "source": [
        "## Application"
      ],
      "metadata": {
        "id": "A8fF8TuorKt0"
      }
    },
    {
      "cell_type": "code",
      "source": [
        "age = int(input())\n",
        "\n",
        "if age>=18:\n",
        "  print(\"You are qualified to vote\")\n",
        "else:\n",
        "  print(\"You are not qualified to vote\")"
      ],
      "metadata": {
        "id": "in7N6LXurMQD"
      },
      "execution_count": null,
      "outputs": []
    },
    {
      "cell_type": "markdown",
      "source": [
        "## Application"
      ],
      "metadata": {
        "id": "tZOFdOovrOjs"
      }
    },
    {
      "cell_type": "code",
      "source": [
        "x = int(input())\n",
        "if x>0:\n",
        "  print(\"x is a positive number\")\n",
        "elif x==0:\n",
        "  print(\"x is zero\")\n",
        "else:\n",
        "  print(\"x is a negative number\")"
      ],
      "metadata": {
        "id": "2R4z3IKErSbw"
      },
      "execution_count": null,
      "outputs": []
    },
    {
      "cell_type": "markdown",
      "source": [
        "## Application - Write a program to determine if the grades are: "
      ],
      "metadata": {
        "id": "l7h4pO1qrVYt"
      }
    },
    {
      "cell_type": "code",
      "source": [
        "# grade > = 70 , “Passed”\n",
        "# grade = 64 to 69 “Remedial”\n",
        "# grade < 64, “Failed”\n",
        "\n",
        "x = int(input())\n",
        "if x >= 70: \n",
        "  print('Passed')\n",
        "elif x >= 64:\n",
        "  print('Remedial')\n",
        "else: \n",
        "  print('Failed')"
      ],
      "metadata": {
        "colab": {
          "base_uri": "https://localhost:8080/"
        },
        "id": "lGfLbSocrW-e",
        "outputId": "a90cfc54-0a49-4975-ca1d-7508700948f2"
      },
      "execution_count": 8,
      "outputs": [
        {
          "output_type": "stream",
          "name": "stdout",
          "text": [
            " 70\n",
            "Passed\n"
          ]
        }
      ]
    },
    {
      "cell_type": "markdown",
      "source": [
        "## For loop"
      ],
      "metadata": {
        "id": "CGoqJ6pWsnUv"
      }
    },
    {
      "cell_type": "code",
      "source": [
        "week = [\"Sunday\",\"Monday\", \"Tuesday\", \"Wednesday\", \"Thursday\", \"Friday\", \"Saturday\"]\n",
        "\n",
        "for x in week:\n",
        "  print(x)"
      ],
      "metadata": {
        "id": "WZO4eXaqrjs8"
      },
      "execution_count": null,
      "outputs": []
    },
    {
      "cell_type": "markdown",
      "source": [
        "## Break statement"
      ],
      "metadata": {
        "id": "AFWUfd2msqTJ"
      }
    },
    {
      "cell_type": "code",
      "source": [
        "for x in week:\n",
        "  print(x)\n",
        "  if x == \"Friday\":\n",
        "    break"
      ],
      "metadata": {
        "id": "ss0aFVcystIm"
      },
      "execution_count": null,
      "outputs": []
    },
    {
      "cell_type": "markdown",
      "source": [
        "## Loop through a string"
      ],
      "metadata": {
        "id": "ygGOnUoSsvKO"
      }
    },
    {
      "cell_type": "code",
      "source": [
        "for x in \"Week\":\n",
        "  print(x)"
      ],
      "metadata": {
        "id": "KmTiC2OUsylK"
      },
      "execution_count": null,
      "outputs": []
    },
    {
      "cell_type": "markdown",
      "source": [
        "## Range() Function"
      ],
      "metadata": {
        "id": "8sJu1iRgs0qF"
      }
    },
    {
      "cell_type": "code",
      "source": [
        "for x in range(6):\n",
        "  print(x)\n",
        "\n"
      ],
      "metadata": {
        "id": "Cfh7R-Hbs3Qq"
      },
      "execution_count": null,
      "outputs": []
    },
    {
      "cell_type": "code",
      "source": [
        "for x in range(2,6):\n",
        "  print(x)"
      ],
      "metadata": {
        "id": "70Sa-VWgs7sK"
      },
      "execution_count": null,
      "outputs": []
    },
    {
      "cell_type": "markdown",
      "source": [
        "## While loop "
      ],
      "metadata": {
        "id": "CgxD07SAs9GM"
      }
    },
    {
      "cell_type": "code",
      "source": [
        "i = 1\n",
        "\n",
        "while i<6:\n",
        "  print(i)\n",
        "  i+=1 #same as i = i+1\n",
        "  "
      ],
      "metadata": {
        "id": "QgXQifKYs7mG"
      },
      "execution_count": null,
      "outputs": []
    },
    {
      "cell_type": "markdown",
      "source": [
        "## Break Statement"
      ],
      "metadata": {
        "id": "qSEISnZbtOXJ"
      }
    },
    {
      "cell_type": "code",
      "source": [
        "i = 1\n",
        "\n",
        "while i<6:\n",
        "  print(i)\n",
        "  if i == 3:\n",
        "    break\n",
        "\n",
        "  i+=1 #same as i = i+1\n",
        "  "
      ],
      "metadata": {
        "id": "ow6waaUNtQOA"
      },
      "execution_count": null,
      "outputs": []
    },
    {
      "cell_type": "markdown",
      "source": [
        "## Continue statement"
      ],
      "metadata": {
        "id": "VoKdlM9WtSe4"
      }
    },
    {
      "cell_type": "code",
      "source": [
        "i = 1\n",
        "\n",
        "while i<6:\n",
        "  i+=1\n",
        "  if i == 3:\n",
        "    continue\n",
        "  print(i)"
      ],
      "metadata": {
        "id": "Au6OvNcxtVnJ"
      },
      "execution_count": null,
      "outputs": []
    }
  ]
}